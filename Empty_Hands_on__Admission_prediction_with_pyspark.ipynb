{
  "nbformat": 4,
  "nbformat_minor": 0,
  "metadata": {
    "colab": {
      "provenance": []
    },
    "kernelspec": {
      "name": "python3",
      "display_name": "Python 3"
    }
  },
  "cells": [
    {
      "cell_type": "markdown",
      "metadata": {
        "id": "rZtskxrQyg3e"
      },
      "source": [
        "# TASK 1 : Install Dependencies & Run a SparkSession\n"
      ]
    },
    {
      "cell_type": "code",
      "metadata": {
        "id": "a9huiQF8yfIK",
        "colab": {
          "base_uri": "https://localhost:8080/"
        },
        "outputId": "d70724fc-3ec8-4d98-89e1-587f2c3d7915"
      },
      "source": [
        "#install pyspark\n",
        "! pip install pyspark"
      ],
      "execution_count": null,
      "outputs": [
        {
          "output_type": "stream",
          "name": "stdout",
          "text": [
            "Looking in indexes: https://pypi.org/simple, https://us-python.pkg.dev/colab-wheels/public/simple/\n",
            "Collecting pyspark\n",
            "  Downloading pyspark-3.4.0.tar.gz (310.8 MB)\n",
            "\u001b[2K     \u001b[90m━━━━━━━━━━━━━━━━━━━━━━━━━━━━━━━━━━━━━━━\u001b[0m \u001b[32m310.8/310.8 MB\u001b[0m \u001b[31m2.7 MB/s\u001b[0m eta \u001b[36m0:00:00\u001b[0m\n",
            "\u001b[?25h  Preparing metadata (setup.py) ... \u001b[?25l\u001b[?25hdone\n",
            "Requirement already satisfied: py4j==0.10.9.7 in /usr/local/lib/python3.10/dist-packages (from pyspark) (0.10.9.7)\n",
            "Building wheels for collected packages: pyspark\n",
            "  Building wheel for pyspark (setup.py) ... \u001b[?25l\u001b[?25hdone\n",
            "  Created wheel for pyspark: filename=pyspark-3.4.0-py2.py3-none-any.whl size=311317130 sha256=764790a6326a57a3441833dfcd80a0be349307decb69e00d44bad1582edd0c24\n",
            "  Stored in directory: /root/.cache/pip/wheels/7b/1b/4b/3363a1d04368e7ff0d408e57ff57966fcdf00583774e761327\n",
            "Successfully built pyspark\n",
            "Installing collected packages: pyspark\n",
            "Successfully installed pyspark-3.4.0\n"
          ]
        }
      ]
    },
    {
      "cell_type": "code",
      "metadata": {
        "id": "1wZpO2gxy7Pt"
      },
      "source": [
        "#create a sparksession object\n",
        "from pyspark.sql import SparkSession\n",
        "spark = SparkSession.builder.appName(\"spark\").getOrCreate()"
      ],
      "execution_count": null,
      "outputs": []
    },
    {
      "cell_type": "markdown",
      "metadata": {
        "id": "8t7JFc_My__A"
      },
      "source": [
        "# TASK 2 : Load & Explore dataset"
      ]
    },
    {
      "cell_type": "code",
      "metadata": {
        "id": "Evfd9ACizers",
        "colab": {
          "base_uri": "https://localhost:8080/"
        },
        "outputId": "74a4f7ce-c627-4052-f82f-281ee39b6566"
      },
      "source": [
        "#check the presence of dataset\n",
        "!ls"
      ],
      "execution_count": null,
      "outputs": [
        {
          "output_type": "stream",
          "name": "stdout",
          "text": [
            "Admission_Predict_Ver1.1.csv  sample_data\n"
          ]
        }
      ]
    },
    {
      "cell_type": "code",
      "metadata": {
        "id": "q6sF2NVazjtU"
      },
      "source": [
        "#create a spark dataframe\n",
        "data = spark.read.csv(\"Admission_Predict_Ver1.1.csv\", header=True, inferSchema=True)"
      ],
      "execution_count": null,
      "outputs": []
    },
    {
      "cell_type": "code",
      "metadata": {
        "id": "cG6UhIUuznfJ",
        "colab": {
          "base_uri": "https://localhost:8080/"
        },
        "outputId": "bc6449ab-3e8f-4560-ff55-cd7bd4a85fae"
      },
      "source": [
        "#display dataframe, top 5\n",
        "data.show(5)"
      ],
      "execution_count": null,
      "outputs": [
        {
          "output_type": "stream",
          "name": "stdout",
          "text": [
            "+---------+---------+-----------+-----------------+---+---+----+--------+---------------+\n",
            "|Serial No|GRE Score|TOEFL Score|University Rating|SOP|LOR|CGPA|Research|Chance of Admit|\n",
            "+---------+---------+-----------+-----------------+---+---+----+--------+---------------+\n",
            "|        1|      337|        118|                4|4.5|4.5|9.65|       1|           0.92|\n",
            "|        2|      324|        107|                4|4.0|4.5|8.87|       1|           0.76|\n",
            "|        3|      316|        104|                3|3.0|3.5| 8.0|       1|           0.72|\n",
            "|        4|      322|        110|                3|3.5|2.5|8.67|       1|            0.8|\n",
            "|        5|      314|        103|                2|2.0|3.0|8.21|       0|           0.65|\n",
            "+---------+---------+-----------+-----------------+---+---+----+--------+---------------+\n",
            "only showing top 5 rows\n",
            "\n"
          ]
        }
      ]
    },
    {
      "cell_type": "code",
      "metadata": {
        "id": "tgtWocArzqVR",
        "colab": {
          "base_uri": "https://localhost:8080/"
        },
        "outputId": "758e946c-1bda-440b-d9c1-0bcb6a4e0ecb"
      },
      "source": [
        "#display the no.of rows & columns\n",
        "print((data.count(), len(data.columns)))"
      ],
      "execution_count": null,
      "outputs": [
        {
          "output_type": "stream",
          "name": "stdout",
          "text": [
            "(500, 9)\n"
          ]
        }
      ]
    },
    {
      "cell_type": "code",
      "metadata": {
        "id": "OWQTe006zt7O",
        "colab": {
          "base_uri": "https://localhost:8080/",
          "height": 0
        },
        "outputId": "5da2e29a-be0d-4e60-f486-dfc3002ea832"
      },
      "source": [
        "#print schema \n",
        "data.printSchema()\n"
      ],
      "execution_count": 9,
      "outputs": [
        {
          "output_type": "stream",
          "name": "stdout",
          "text": [
            "root\n",
            " |-- Serial No: integer (nullable = true)\n",
            " |-- GRE Score: integer (nullable = true)\n",
            " |-- TOEFL Score: integer (nullable = true)\n",
            " |-- University Rating: integer (nullable = true)\n",
            " |-- SOP: double (nullable = true)\n",
            " |-- LOR: double (nullable = true)\n",
            " |-- CGPA: double (nullable = true)\n",
            " |-- Research: integer (nullable = true)\n",
            " |-- Chance of Admit: double (nullable = true)\n",
            "\n"
          ]
        }
      ]
    },
    {
      "cell_type": "code",
      "metadata": {
        "id": "locEx8HDz264",
        "colab": {
          "base_uri": "https://localhost:8080/",
          "height": 363
        },
        "outputId": "cfd6a822-c266-4fcb-dffb-f1019056f9f6"
      },
      "source": [
        "#get the summary statistics\n",
        "data.describe().toPandas().transpose()\n"
      ],
      "execution_count": 10,
      "outputs": [
        {
          "output_type": "execute_result",
          "data": {
            "text/plain": [
              "                       0                   1                    2     3     4\n",
              "summary            count                mean               stddev   min   max\n",
              "Serial No            500               250.5    144.4818327679989     1   500\n",
              "GRE Score            500             316.472   11.295148372354712   290   340\n",
              "TOEFL Score          500             107.192    6.081867659564538    92   120\n",
              "University Rating    500               3.114    1.143511800759815     1     5\n",
              "SOP                  500               3.374   0.9910036207566072   1.0   5.0\n",
              "LOR                  500               3.484   0.9254495738978191   1.0   5.0\n",
              "CGPA                 500   8.576440000000003   0.6048128003332054   6.8  9.92\n",
              "Research             500                0.56   0.4968840786090358     0     1\n",
              "Chance of Admit      500  0.7217399999999996  0.14114040395030228  0.34  0.97"
            ],
            "text/html": [
              "\n",
              "  <div id=\"df-8d3b6e12-70b5-446c-aadd-9f8867e8a926\">\n",
              "    <div class=\"colab-df-container\">\n",
              "      <div>\n",
              "<style scoped>\n",
              "    .dataframe tbody tr th:only-of-type {\n",
              "        vertical-align: middle;\n",
              "    }\n",
              "\n",
              "    .dataframe tbody tr th {\n",
              "        vertical-align: top;\n",
              "    }\n",
              "\n",
              "    .dataframe thead th {\n",
              "        text-align: right;\n",
              "    }\n",
              "</style>\n",
              "<table border=\"1\" class=\"dataframe\">\n",
              "  <thead>\n",
              "    <tr style=\"text-align: right;\">\n",
              "      <th></th>\n",
              "      <th>0</th>\n",
              "      <th>1</th>\n",
              "      <th>2</th>\n",
              "      <th>3</th>\n",
              "      <th>4</th>\n",
              "    </tr>\n",
              "  </thead>\n",
              "  <tbody>\n",
              "    <tr>\n",
              "      <th>summary</th>\n",
              "      <td>count</td>\n",
              "      <td>mean</td>\n",
              "      <td>stddev</td>\n",
              "      <td>min</td>\n",
              "      <td>max</td>\n",
              "    </tr>\n",
              "    <tr>\n",
              "      <th>Serial No</th>\n",
              "      <td>500</td>\n",
              "      <td>250.5</td>\n",
              "      <td>144.4818327679989</td>\n",
              "      <td>1</td>\n",
              "      <td>500</td>\n",
              "    </tr>\n",
              "    <tr>\n",
              "      <th>GRE Score</th>\n",
              "      <td>500</td>\n",
              "      <td>316.472</td>\n",
              "      <td>11.295148372354712</td>\n",
              "      <td>290</td>\n",
              "      <td>340</td>\n",
              "    </tr>\n",
              "    <tr>\n",
              "      <th>TOEFL Score</th>\n",
              "      <td>500</td>\n",
              "      <td>107.192</td>\n",
              "      <td>6.081867659564538</td>\n",
              "      <td>92</td>\n",
              "      <td>120</td>\n",
              "    </tr>\n",
              "    <tr>\n",
              "      <th>University Rating</th>\n",
              "      <td>500</td>\n",
              "      <td>3.114</td>\n",
              "      <td>1.143511800759815</td>\n",
              "      <td>1</td>\n",
              "      <td>5</td>\n",
              "    </tr>\n",
              "    <tr>\n",
              "      <th>SOP</th>\n",
              "      <td>500</td>\n",
              "      <td>3.374</td>\n",
              "      <td>0.9910036207566072</td>\n",
              "      <td>1.0</td>\n",
              "      <td>5.0</td>\n",
              "    </tr>\n",
              "    <tr>\n",
              "      <th>LOR</th>\n",
              "      <td>500</td>\n",
              "      <td>3.484</td>\n",
              "      <td>0.9254495738978191</td>\n",
              "      <td>1.0</td>\n",
              "      <td>5.0</td>\n",
              "    </tr>\n",
              "    <tr>\n",
              "      <th>CGPA</th>\n",
              "      <td>500</td>\n",
              "      <td>8.576440000000003</td>\n",
              "      <td>0.6048128003332054</td>\n",
              "      <td>6.8</td>\n",
              "      <td>9.92</td>\n",
              "    </tr>\n",
              "    <tr>\n",
              "      <th>Research</th>\n",
              "      <td>500</td>\n",
              "      <td>0.56</td>\n",
              "      <td>0.4968840786090358</td>\n",
              "      <td>0</td>\n",
              "      <td>1</td>\n",
              "    </tr>\n",
              "    <tr>\n",
              "      <th>Chance of Admit</th>\n",
              "      <td>500</td>\n",
              "      <td>0.7217399999999996</td>\n",
              "      <td>0.14114040395030228</td>\n",
              "      <td>0.34</td>\n",
              "      <td>0.97</td>\n",
              "    </tr>\n",
              "  </tbody>\n",
              "</table>\n",
              "</div>\n",
              "      <button class=\"colab-df-convert\" onclick=\"convertToInteractive('df-8d3b6e12-70b5-446c-aadd-9f8867e8a926')\"\n",
              "              title=\"Convert this dataframe to an interactive table.\"\n",
              "              style=\"display:none;\">\n",
              "        \n",
              "  <svg xmlns=\"http://www.w3.org/2000/svg\" height=\"24px\"viewBox=\"0 0 24 24\"\n",
              "       width=\"24px\">\n",
              "    <path d=\"M0 0h24v24H0V0z\" fill=\"none\"/>\n",
              "    <path d=\"M18.56 5.44l.94 2.06.94-2.06 2.06-.94-2.06-.94-.94-2.06-.94 2.06-2.06.94zm-11 1L8.5 8.5l.94-2.06 2.06-.94-2.06-.94L8.5 2.5l-.94 2.06-2.06.94zm10 10l.94 2.06.94-2.06 2.06-.94-2.06-.94-.94-2.06-.94 2.06-2.06.94z\"/><path d=\"M17.41 7.96l-1.37-1.37c-.4-.4-.92-.59-1.43-.59-.52 0-1.04.2-1.43.59L10.3 9.45l-7.72 7.72c-.78.78-.78 2.05 0 2.83L4 21.41c.39.39.9.59 1.41.59.51 0 1.02-.2 1.41-.59l7.78-7.78 2.81-2.81c.8-.78.8-2.07 0-2.86zM5.41 20L4 18.59l7.72-7.72 1.47 1.35L5.41 20z\"/>\n",
              "  </svg>\n",
              "      </button>\n",
              "      \n",
              "  <style>\n",
              "    .colab-df-container {\n",
              "      display:flex;\n",
              "      flex-wrap:wrap;\n",
              "      gap: 12px;\n",
              "    }\n",
              "\n",
              "    .colab-df-convert {\n",
              "      background-color: #E8F0FE;\n",
              "      border: none;\n",
              "      border-radius: 50%;\n",
              "      cursor: pointer;\n",
              "      display: none;\n",
              "      fill: #1967D2;\n",
              "      height: 32px;\n",
              "      padding: 0 0 0 0;\n",
              "      width: 32px;\n",
              "    }\n",
              "\n",
              "    .colab-df-convert:hover {\n",
              "      background-color: #E2EBFA;\n",
              "      box-shadow: 0px 1px 2px rgba(60, 64, 67, 0.3), 0px 1px 3px 1px rgba(60, 64, 67, 0.15);\n",
              "      fill: #174EA6;\n",
              "    }\n",
              "\n",
              "    [theme=dark] .colab-df-convert {\n",
              "      background-color: #3B4455;\n",
              "      fill: #D2E3FC;\n",
              "    }\n",
              "\n",
              "    [theme=dark] .colab-df-convert:hover {\n",
              "      background-color: #434B5C;\n",
              "      box-shadow: 0px 1px 3px 1px rgba(0, 0, 0, 0.15);\n",
              "      filter: drop-shadow(0px 1px 2px rgba(0, 0, 0, 0.3));\n",
              "      fill: #FFFFFF;\n",
              "    }\n",
              "  </style>\n",
              "\n",
              "      <script>\n",
              "        const buttonEl =\n",
              "          document.querySelector('#df-8d3b6e12-70b5-446c-aadd-9f8867e8a926 button.colab-df-convert');\n",
              "        buttonEl.style.display =\n",
              "          google.colab.kernel.accessAllowed ? 'block' : 'none';\n",
              "\n",
              "        async function convertToInteractive(key) {\n",
              "          const element = document.querySelector('#df-8d3b6e12-70b5-446c-aadd-9f8867e8a926');\n",
              "          const dataTable =\n",
              "            await google.colab.kernel.invokeFunction('convertToInteractive',\n",
              "                                                     [key], {});\n",
              "          if (!dataTable) return;\n",
              "\n",
              "          const docLinkHtml = 'Like what you see? Visit the ' +\n",
              "            '<a target=\"_blank\" href=https://colab.research.google.com/notebooks/data_table.ipynb>data table notebook</a>'\n",
              "            + ' to learn more about interactive tables.';\n",
              "          element.innerHTML = '';\n",
              "          dataTable['output_type'] = 'display_data';\n",
              "          await google.colab.output.renderOutput(dataTable, element);\n",
              "          const docLink = document.createElement('div');\n",
              "          docLink.innerHTML = docLinkHtml;\n",
              "          element.appendChild(docLink);\n",
              "        }\n",
              "      </script>\n",
              "    </div>\n",
              "  </div>\n",
              "  "
            ]
          },
          "metadata": {},
          "execution_count": 10
        }
      ]
    },
    {
      "cell_type": "markdown",
      "metadata": {
        "id": "6uDdoEKsz6h6"
      },
      "source": [
        "# TASK 3 : Data Cleaning"
      ]
    },
    {
      "cell_type": "code",
      "metadata": {
        "id": "o6gJAFo30G9s"
      },
      "source": [
        "#drop the unnecessary column\n",
        "data = data.drop('Research')\n"
      ],
      "execution_count": 19,
      "outputs": []
    },
    {
      "cell_type": "code",
      "metadata": {
        "id": "_lOPoDVk0OFH",
        "colab": {
          "base_uri": "https://localhost:8080/",
          "height": 0
        },
        "outputId": "835edb55-0f90-4ca3-9464-2bf45ebe4201"
      },
      "source": [
        "#validate the unnecessary column is dropped\n",
        "data.columns"
      ],
      "execution_count": 20,
      "outputs": [
        {
          "output_type": "execute_result",
          "data": {
            "text/plain": [
              "['Serial No',\n",
              " 'GRE Score',\n",
              " 'TOEFL Score',\n",
              " 'University Rating',\n",
              " 'SOP',\n",
              " 'LOR',\n",
              " 'CGPA',\n",
              " 'Chance of Admit']"
            ]
          },
          "metadata": {},
          "execution_count": 20
        }
      ]
    },
    {
      "cell_type": "code",
      "metadata": {
        "id": "Au73oUZJ0Qv7",
        "colab": {
          "base_uri": "https://localhost:8080/",
          "height": 0
        },
        "outputId": "9aa9b5f6-3fc0-409c-d328-a1ac4f43f3c5"
      },
      "source": [
        "#check for null values\n",
        "for i in data.columns:\n",
        "  print(i+\":\", data[data[i].isNull()].count())"
      ],
      "execution_count": 18,
      "outputs": [
        {
          "output_type": "stream",
          "name": "stdout",
          "text": [
            "Serial No: 0\n",
            "GRE Score: 0\n",
            "TOEFL Score: 0\n",
            "University Rating: 0\n",
            "SOP: 0\n",
            "LOR: 0\n",
            "CGPA: 0\n",
            "Research: 0\n",
            "Chance of Admit: 0\n"
          ]
        }
      ]
    },
    {
      "cell_type": "markdown",
      "metadata": {
        "id": "prkDI9Dc0SoH"
      },
      "source": [
        "# TASK 4 : Correlation Analysis & Feature Selection"
      ]
    },
    {
      "cell_type": "code",
      "metadata": {
        "id": "eFhxSRRj0Ypa",
        "colab": {
          "base_uri": "https://localhost:8080/",
          "height": 0
        },
        "outputId": "871c6047-d74f-4601-9175-757fcf2f458e"
      },
      "source": [
        "# correlation analysis\n",
        "for col in data.columns:\n",
        "  print('Correlation to chance of admin col for {} is {}'.format(col, data.stat.corr('Chance of Admit', col)))"
      ],
      "execution_count": 11,
      "outputs": [
        {
          "output_type": "stream",
          "name": "stdout",
          "text": [
            "Correlation to chance of admin col for Serial No is 0.00850504936113174\n",
            "Correlation to chance of admin col for GRE Score is 0.8103506354632598\n",
            "Correlation to chance of admin col for TOEFL Score is 0.7922276143050823\n",
            "Correlation to chance of admin col for University Rating is 0.6901323687886892\n",
            "Correlation to chance of admin col for SOP is 0.6841365241316723\n",
            "Correlation to chance of admin col for LOR is 0.6453645135280112\n",
            "Correlation to chance of admin col for CGPA is 0.882412574904574\n",
            "Correlation to chance of admin col for Research is 0.5458710294711379\n",
            "Correlation to chance of admin col for Chance of Admit is 1.0\n"
          ]
        }
      ]
    },
    {
      "cell_type": "code",
      "metadata": {
        "id": "UXNOknvo0dV2"
      },
      "source": [
        "# feature selection; pick 3 features based on their class correlation\n",
        "from pyspark.ml.feature import VectorAssembler\n",
        "assembler = VectorAssembler(inputCols = ['GRE Score','TOEFL Score','CGPA'],outputCol = 'features')"
      ],
      "execution_count": 21,
      "outputs": []
    },
    {
      "cell_type": "code",
      "metadata": {
        "id": "JOzlkPaz0ibL",
        "colab": {
          "base_uri": "https://localhost:8080/",
          "height": 0
        },
        "outputId": "0d8f2eac-6daf-471a-80d3-77c2168abcee"
      },
      "source": [
        "#display the resultant dataframe\n",
        "output_data = assembler.transform(data)\n",
        "output_data.show()"
      ],
      "execution_count": 30,
      "outputs": [
        {
          "output_type": "stream",
          "name": "stdout",
          "text": [
            "+---------+---------+-----------+-----------------+---+---+----+---------------+------------------+\n",
            "|Serial No|GRE Score|TOEFL Score|University Rating|SOP|LOR|CGPA|Chance of Admit|          features|\n",
            "+---------+---------+-----------+-----------------+---+---+----+---------------+------------------+\n",
            "|        1|      337|        118|                4|4.5|4.5|9.65|           0.92|[337.0,118.0,9.65]|\n",
            "|        2|      324|        107|                4|4.0|4.5|8.87|           0.76|[324.0,107.0,8.87]|\n",
            "|        3|      316|        104|                3|3.0|3.5| 8.0|           0.72| [316.0,104.0,8.0]|\n",
            "|        4|      322|        110|                3|3.5|2.5|8.67|            0.8|[322.0,110.0,8.67]|\n",
            "|        5|      314|        103|                2|2.0|3.0|8.21|           0.65|[314.0,103.0,8.21]|\n",
            "|        6|      330|        115|                5|4.5|3.0|9.34|            0.9|[330.0,115.0,9.34]|\n",
            "|        7|      321|        109|                3|3.0|4.0| 8.2|           0.75| [321.0,109.0,8.2]|\n",
            "|        8|      308|        101|                2|3.0|4.0| 7.9|           0.68| [308.0,101.0,7.9]|\n",
            "|        9|      302|        102|                1|2.0|1.5| 8.0|            0.5| [302.0,102.0,8.0]|\n",
            "|       10|      323|        108|                3|3.5|3.0| 8.6|           0.45| [323.0,108.0,8.6]|\n",
            "|       11|      325|        106|                3|3.5|4.0| 8.4|           0.52| [325.0,106.0,8.4]|\n",
            "|       12|      327|        111|                4|4.0|4.5| 9.0|           0.84| [327.0,111.0,9.0]|\n",
            "|       13|      328|        112|                4|4.0|4.5| 9.1|           0.78| [328.0,112.0,9.1]|\n",
            "|       14|      307|        109|                3|4.0|3.0| 8.0|           0.62| [307.0,109.0,8.0]|\n",
            "|       15|      311|        104|                3|3.5|2.0| 8.2|           0.61| [311.0,104.0,8.2]|\n",
            "|       16|      314|        105|                3|3.5|2.5| 8.3|           0.54| [314.0,105.0,8.3]|\n",
            "|       17|      317|        107|                3|4.0|3.0| 8.7|           0.66| [317.0,107.0,8.7]|\n",
            "|       18|      319|        106|                3|4.0|3.0| 8.0|           0.65| [319.0,106.0,8.0]|\n",
            "|       19|      318|        110|                3|4.0|3.0| 8.8|           0.63| [318.0,110.0,8.8]|\n",
            "|       20|      303|        102|                3|3.5|3.0| 8.5|           0.62| [303.0,102.0,8.5]|\n",
            "+---------+---------+-----------+-----------------+---+---+----+---------------+------------------+\n",
            "only showing top 20 rows\n",
            "\n"
          ]
        }
      ]
    },
    {
      "cell_type": "markdown",
      "metadata": {
        "id": "l6FucLAC0r5I"
      },
      "source": [
        "# TASK 5 : Build the Linear Regression Model"
      ]
    },
    {
      "cell_type": "code",
      "metadata": {
        "id": "RMYN_8jJ0wDR"
      },
      "source": [
        "#import Linearregression and create final_data DF ie select subset of data, 'features' and 'Chance of Admit'\n",
        "from pyspark.ml.regression import LinearRegression\n",
        "final_data = output_data.select('features','Chance of Admit')"
      ],
      "execution_count": 31,
      "outputs": []
    },
    {
      "cell_type": "code",
      "metadata": {
        "id": "MNSEfLCp09oO",
        "colab": {
          "base_uri": "https://localhost:8080/",
          "height": 0
        },
        "outputId": "18ab96a1-5f2d-40e4-df28-21a863bee02d"
      },
      "source": [
        "#print schema of final data\n",
        "final_data.printSchema()"
      ],
      "execution_count": 25,
      "outputs": [
        {
          "output_type": "stream",
          "name": "stdout",
          "text": [
            "root\n",
            " |-- features: vector (nullable = true)\n",
            " |-- Chance of Admit: double (nullable = true)\n",
            "\n"
          ]
        }
      ]
    },
    {
      "cell_type": "code",
      "metadata": {
        "id": "vOJylIiS1Dre"
      },
      "source": [
        "#split the dataset into training and testing set with a seed value of 123\n",
        "train, test = final_data.randomSplit([0.8, 0.2], seed=123)\n"
      ],
      "execution_count": 32,
      "outputs": []
    },
    {
      "cell_type": "code",
      "source": [
        "train.show()"
      ],
      "metadata": {
        "id": "mUaRDwegv4sW",
        "colab": {
          "base_uri": "https://localhost:8080/",
          "height": 0
        },
        "outputId": "4079ad59-1405-4beb-d98b-06d156155d91"
      },
      "execution_count": 33,
      "outputs": [
        {
          "output_type": "stream",
          "name": "stdout",
          "text": [
            "+------------------+---------------+\n",
            "|          features|Chance of Admit|\n",
            "+------------------+---------------+\n",
            "|[290.0,100.0,7.56]|           0.47|\n",
            "|[290.0,104.0,7.46]|           0.45|\n",
            "| [294.0,93.0,7.36]|           0.46|\n",
            "| [294.0,95.0,7.64]|           0.49|\n",
            "|  [295.0,93.0,7.2]|           0.46|\n",
            "| [295.0,99.0,7.57]|           0.37|\n",
            "| [295.0,99.0,7.65]|           0.57|\n",
            "|[295.0,101.0,7.86]|           0.69|\n",
            "| [296.0,95.0,7.54]|           0.44|\n",
            "|  [296.0,97.0,7.8]|           0.49|\n",
            "|[296.0,101.0,7.68]|            0.6|\n",
            "| [297.0,96.0,7.43]|           0.34|\n",
            "| [297.0,96.0,7.89]|           0.43|\n",
            "| [297.0,98.0,7.67]|           0.59|\n",
            "| [297.0,100.0,7.9]|           0.52|\n",
            "|[297.0,101.0,7.67]|           0.57|\n",
            "| [298.0,92.0,7.88]|           0.51|\n",
            "| [298.0,97.0,7.21]|           0.45|\n",
            "| [298.0,98.0,8.03]|           0.34|\n",
            "| [298.0,99.0,7.46]|           0.53|\n",
            "+------------------+---------------+\n",
            "only showing top 20 rows\n",
            "\n"
          ]
        }
      ]
    },
    {
      "cell_type": "code",
      "metadata": {
        "id": "xoxFzm4A1Hee"
      },
      "source": [
        "#build & train the LinearRegression model\n",
        "models = LinearRegression(featuresCol = 'features',labelCol = 'Chance of Admit')\n",
        "model = models.fit(train)"
      ],
      "execution_count": 34,
      "outputs": []
    },
    {
      "cell_type": "code",
      "metadata": {
        "id": "DDCZ9uvA1QLf",
        "colab": {
          "base_uri": "https://localhost:8080/",
          "height": 0
        },
        "outputId": "45b0883a-7d52-40f8-882c-b55720cb0284"
      },
      "source": [
        "#get coefficients & intercept  (y = mx + c) i.e. model specific information\n",
        "print(\"coefficients:\",model.coefficients)\n",
        "print(\"intercept:\",model.intercept)"
      ],
      "execution_count": 35,
      "outputs": [
        {
          "output_type": "stream",
          "name": "stdout",
          "text": [
            "coefficients: [0.0022656083234338467,0.003943604439786189,0.1357809197519976]\n",
            "intercept: -1.5834317832688576\n"
          ]
        }
      ]
    },
    {
      "cell_type": "code",
      "metadata": {
        "id": "bO6Duj1l1YJX"
      },
      "source": [
        "#get summary of the model\n",
        "summary = model.summary"
      ],
      "execution_count": 36,
      "outputs": []
    },
    {
      "cell_type": "code",
      "metadata": {
        "id": "ebi9LxFS1aBJ",
        "colab": {
          "base_uri": "https://localhost:8080/",
          "height": 0
        },
        "outputId": "88862ba5-7988-42d4-99f0-81aef76c13a5"
      },
      "source": [
        "#print the mae, rmse & r2 score\n",
        "print('MAE', summary.meanAbsoluteError)\n",
        "print('RMSE',summary.rootMeanSquaredError)\n",
        "print('r2 score', summary.r2)"
      ],
      "execution_count": 37,
      "outputs": [
        {
          "output_type": "stream",
          "name": "stdout",
          "text": [
            "MAE 0.04530729939838914\n",
            "RMSE 0.06334892921559741\n",
            "r2 score 0.7964903541530333\n"
          ]
        }
      ]
    },
    {
      "cell_type": "markdown",
      "metadata": {
        "id": "b5lTskfK1eKV"
      },
      "source": [
        "# TASK 6 : Evaluate & Save the Model"
      ]
    },
    {
      "cell_type": "code",
      "metadata": {
        "id": "l0TAwvGP1noC"
      },
      "source": [
        "#transform on the test data\n",
        "predictions = model.transform(test)\n",
        "\n"
      ],
      "execution_count": 40,
      "outputs": []
    },
    {
      "cell_type": "code",
      "metadata": {
        "id": "T_DixZ6f1nvP",
        "colab": {
          "base_uri": "https://localhost:8080/",
          "height": 0
        },
        "outputId": "3eeff134-2988-4784-fa80-7ab6c4c21541"
      },
      "source": [
        "#display the predictions\n",
        "predictions.show()"
      ],
      "execution_count": 41,
      "outputs": [
        {
          "output_type": "stream",
          "name": "stdout",
          "text": [
            "+------------------+---------------+-------------------+\n",
            "|          features|Chance of Admit|         prediction|\n",
            "+------------------+---------------+-------------------+\n",
            "|  [293.0,97.0,7.8]|           0.64| 0.5220122602221011|\n",
            "| [295.0,96.0,7.34]|           0.47| 0.4601406493432638|\n",
            "| [296.0,99.0,7.28]|           0.47|0.46609021580093635|\n",
            "| [296.0,99.0,8.03]|           0.61| 0.5679259056149346|\n",
            "| [297.0,99.0,7.81]|           0.54|  0.540319711592929|\n",
            "|  [298.0,98.0,7.5]|           0.44|0.49654963035345756|\n",
            "|[298.0,101.0,7.86]|           0.54| 0.5572615747835352|\n",
            "|[298.0,105.0,8.54]|           0.69| 0.6653670179740383|\n",
            "| [299.0,97.0,7.66]|           0.38| 0.5165965813974245|\n",
            "|[299.0,100.0,7.42]|           0.42| 0.4958399739763035|\n",
            "|[299.0,100.0,7.88]|           0.51| 0.5582991970622226|\n",
            "|[299.0,100.0,8.02]|           0.63| 0.5773085258275021|\n",
            "| [299.0,106.0,8.4]|           0.64| 0.6525669019719784|\n",
            "|[300.0,100.0,8.66]|           0.64| 0.6664739227922147|\n",
            "| [301.0,98.0,8.03]|           0.67| 0.5753103427923174|\n",
            "|[301.0,104.0,8.12]|           0.68| 0.6111922522087141|\n",
            "|[304.0,100.0,7.84]|           0.42|  0.564196001889312|\n",
            "|[304.0,101.0,7.66]|           0.38| 0.5436990407737385|\n",
            "| [304.0,105.0,7.5]|           0.52| 0.5377485113725637|\n",
            "|[305.0,106.0,8.16]|           0.64|  0.633573131172102|\n",
            "+------------------+---------------+-------------------+\n",
            "only showing top 20 rows\n",
            "\n"
          ]
        }
      ]
    },
    {
      "cell_type": "code",
      "metadata": {
        "id": "vzxDnudZ1n3n",
        "colab": {
          "base_uri": "https://localhost:8080/",
          "height": 0
        },
        "outputId": "65fa56b1-0fad-449a-ad2f-e75b74690bfb"
      },
      "source": [
        "#evaluate the model for rmse, mae, r2 metrics\n",
        "from pyspark.ml.evaluation import RegressionEvaluator\n",
        "from pyspark.ml.evaluation import RegressionEvaluator\n",
        "evaluator1 = RegressionEvaluator(predictionCol = 'prediction',labelCol = 'Chance of Admit',metricName = 'r2')\n",
        "evaluator2 = RegressionEvaluator(predictionCol = 'prediction',labelCol = 'Chance of Admit',metricName = 'rmse')\n",
        "evaluator3 = RegressionEvaluator(predictionCol = 'prediction',labelCol = 'Chance of Admit',metricName = 'mae')\n",
        "\n",
        "print('r2 on the test data',evaluator1.evaluate(predictions))\n",
        "print('rmse on the test data',evaluator2.evaluate(predictions))\n",
        "print('mae on the test data',evaluator3.evaluate(predictions))\n",
        "\n"
      ],
      "execution_count": 43,
      "outputs": [
        {
          "output_type": "stream",
          "name": "stdout",
          "text": [
            "r2 on the test data 0.8329088873418462\n",
            "rmse on the test data 0.05853544314069586\n",
            "mae on the test data 0.04280128115315109\n"
          ]
        }
      ]
    },
    {
      "cell_type": "code",
      "metadata": {
        "id": "WEeyiruX1n_I"
      },
      "source": [
        "#save the model\n",
        "model.save('model')\n"
      ],
      "execution_count": 44,
      "outputs": []
    },
    {
      "cell_type": "code",
      "metadata": {
        "id": "PK48FYRd2CMJ"
      },
      "source": [
        "#load the model\n",
        "from pyspark.ml.regression import LinearRegressionModel\n",
        "model = LinearRegressionModel.load('model')"
      ],
      "execution_count": 45,
      "outputs": []
    },
    {
      "cell_type": "markdown",
      "source": [
        "# TASK 7 : Create a Random Forest Regressor and compare its results with the Linear Regression model\n"
      ],
      "metadata": {
        "id": "z_7j0D6so9cX"
      }
    },
    {
      "cell_type": "code",
      "source": [
        "#import RandomForestRegressor and fit the data to the model\n",
        "from pyspark.ml.regression import RandomForestRegressor\n",
        "\n",
        "#build & train the model\n",
        "regressor = RandomForestRegressor(featuresCol='features', labelCol='Chance of Admit')\n"
      ],
      "metadata": {
        "id": "bSY-cN120eiM"
      },
      "execution_count": 49,
      "outputs": []
    },
    {
      "cell_type": "code",
      "source": [
        "modelr = regressor.fit(train)\n"
      ],
      "metadata": {
        "id": "I5bINl8qZHIX"
      },
      "execution_count": 57,
      "outputs": []
    },
    {
      "cell_type": "code",
      "source": [
        "#get model's number of Trees\n",
        "print (modelr.featureImportances)\n"
      ],
      "metadata": {
        "id": "EJo3mbS71ZeU",
        "colab": {
          "base_uri": "https://localhost:8080/",
          "height": 0
        },
        "outputId": "966f83ff-3e17-4371-f85e-cd453c400ed6"
      },
      "execution_count": 58,
      "outputs": [
        {
          "output_type": "stream",
          "name": "stdout",
          "text": [
            "(3,[0,1,2],[0.26179640171419194,0.26470046959588495,0.47350312868992317])\n"
          ]
        }
      ]
    },
    {
      "cell_type": "code",
      "source": [
        "#transform on the test data\n",
        "pred = modelr.transform(test) #cvModel obj will automatically pick the bestModel\n",
        "pred.select('Chance of Admit', 'prediction').show()"
      ],
      "metadata": {
        "id": "JIfdlIVq18t1",
        "colab": {
          "base_uri": "https://localhost:8080/",
          "height": 0
        },
        "outputId": "bdbc8ec2-5968-4ba1-fbdb-f20eaaeff6f6"
      },
      "execution_count": 60,
      "outputs": [
        {
          "output_type": "stream",
          "name": "stdout",
          "text": [
            "+---------------+-------------------+\n",
            "|Chance of Admit|         prediction|\n",
            "+---------------+-------------------+\n",
            "|           0.64|0.49425567423613775|\n",
            "|           0.47|0.44684923767752716|\n",
            "|           0.47|    0.4802772067906|\n",
            "|           0.61| 0.5012079800988192|\n",
            "|           0.54| 0.5233818665149336|\n",
            "|           0.44| 0.4920378488659159|\n",
            "|           0.54| 0.5859917737393376|\n",
            "|           0.69| 0.6407372240631993|\n",
            "|           0.38| 0.5062267637947271|\n",
            "|           0.42| 0.5116799095138997|\n",
            "|           0.51| 0.5722134583358723|\n",
            "|           0.63| 0.5842205671915427|\n",
            "|           0.64| 0.6427771735581488|\n",
            "|           0.64| 0.6615500595814312|\n",
            "|           0.67| 0.5691984481073135|\n",
            "|           0.68| 0.6319872167432464|\n",
            "|           0.42| 0.5675635436370446|\n",
            "|           0.38| 0.5699383124663113|\n",
            "|           0.52| 0.5729310759116915|\n",
            "|           0.64| 0.6381175647305585|\n",
            "+---------------+-------------------+\n",
            "only showing top 20 rows\n",
            "\n"
          ]
        }
      ]
    },
    {
      "cell_type": "code",
      "source": [
        "#display the predictions\n",
        "pred = cvModel.transform(test) #cvModel obj will automatically pick the bestModel\n",
        "pred.select('Chance of Admit', 'prediction').show()"
      ],
      "metadata": {
        "id": "RNY6fEmU2H7S",
        "colab": {
          "base_uri": "https://localhost:8080/",
          "height": 0
        },
        "outputId": "a096afbd-e1be-4b33-a2e8-2c7d11d6ed1a"
      },
      "execution_count": 62,
      "outputs": [
        {
          "output_type": "stream",
          "name": "stdout",
          "text": [
            "+---------------+-------------------+\n",
            "|Chance of Admit|         prediction|\n",
            "+---------------+-------------------+\n",
            "|           0.64|0.49425567423613775|\n",
            "|           0.47|0.44684923767752716|\n",
            "|           0.47|    0.4802772067906|\n",
            "|           0.61| 0.5012079800988192|\n",
            "|           0.54| 0.5233818665149336|\n",
            "|           0.44| 0.4920378488659159|\n",
            "|           0.54| 0.5859917737393376|\n",
            "|           0.69| 0.6407372240631993|\n",
            "|           0.38| 0.5062267637947271|\n",
            "|           0.42| 0.5116799095138997|\n",
            "|           0.51| 0.5722134583358723|\n",
            "|           0.63| 0.5842205671915427|\n",
            "|           0.64| 0.6427771735581488|\n",
            "|           0.64| 0.6615500595814312|\n",
            "|           0.67| 0.5691984481073135|\n",
            "|           0.68| 0.6319872167432464|\n",
            "|           0.42| 0.5675635436370446|\n",
            "|           0.38| 0.5699383124663113|\n",
            "|           0.52| 0.5729310759116915|\n",
            "|           0.64| 0.6381175647305585|\n",
            "+---------------+-------------------+\n",
            "only showing top 20 rows\n",
            "\n"
          ]
        }
      ]
    },
    {
      "cell_type": "code",
      "source": [
        "#evaluate the model for rmse, mae and r2 metrics\n",
        "from pyspark.ml.evaluation import RegressionEvaluator\n",
        "eval = RegressionEvaluator(labelCol='Chance of Admit')\n",
        "rmse = eval.evaluate(pred)\n",
        "mse = eval.evaluate(pred, {eval.metricName: 'mse'})\n",
        "mae = eval.evaluate(pred, {eval.metricName: 'mae'})\n",
        "r2 = eval.evaluate(pred, {eval.metricName: 'r2'})\n",
        "\n",
        "print(\"RMSE: %.3f\" %rmse)\n",
        "print(\"MSE: %.3f\" %mse)\n",
        "print(\"MAE: %.3f\" %mae) # mean abs error: avg error +ve, -ve expected in predictions\n",
        "print(\"r2: %.3f\" %r2)"
      ],
      "metadata": {
        "id": "mqvghMcq2LIb",
        "colab": {
          "base_uri": "https://localhost:8080/",
          "height": 0
        },
        "outputId": "7461557b-885c-4551-af3e-6c7be3943679"
      },
      "execution_count": 65,
      "outputs": [
        {
          "output_type": "stream",
          "name": "stdout",
          "text": [
            "RMSE: 0.062\n",
            "MSE: 0.004\n",
            "MAE: 0.045\n",
            "r2: 0.815\n"
          ]
        }
      ]
    }
  ]
}